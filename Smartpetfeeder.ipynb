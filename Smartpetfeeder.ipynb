{
 "cells": [
  {
   "cell_type": "code",
   "execution_count": null,
   "id": "d088c985-b31e-4de5-805e-9650f61d1d01",
   "metadata": {},
   "outputs": [],
   "source": [
    "import time\n",
    "import random\n",
    "from gpiozero import Servo, Motor, LED, Button\n",
    "from playsound import playsound\n",
    "import speech_recognition as sr"
   ]
  },
  {
   "cell_type": "code",
   "execution_count": null,
   "id": "3fcda693-6e4f-4fe0-a870-429511f3f30a",
   "metadata": {},
   "outputs": [],
   "source": [
    "servo_food = Servo(17)  # Pin controlling food dispenser\n",
    "water_pump = Motor(forward=27, backward=22)  # Pin controlling water dispenser\n",
    "music_mode_led = LED(5)  # LED to indicate calm music mode\n",
    "medicine_motor = Motor(forward=6, backward=13)  # Medicine dispenser\n"
   ]
  },
  {
   "cell_type": "code",
   "execution_count": null,
   "id": "b295a707-eaab-4828-a896-030349f1d876",
   "metadata": {},
   "outputs": [],
   "source": [
    "servo_food = Servo(17)  # Pin controlling food dispenser\n",
    "water_pump = Motor(forward=27, backward=22)  # Pin controlling water dispenser\n",
    "music_mode_led = LED(5)  # LED to indicate calm music mode\n",
    "medicine_motor = Motor(forward=6, backward=13)  # Medicine dispenser\n"
   ]
  },
  {
   "cell_type": "code",
   "execution_count": null,
   "id": "11886429-771f-4e6a-b595-926b80086b02",
   "metadata": {},
   "outputs": [],
   "source": [
    "# Voice Recognition Setup\n",
    "recognizer = sr.Recognizer()\n",
    "\n",
    "def voice_command():\n",
    "    with sr.Microphone() as source:\n",
    "        print(\"Listening...\")\n",
    "        audio = recognizer.listen(source)\n",
    "        try:\n",
    "            command = recognizer.recognize_google(audio)\n",
    "            print(f\"Command received: {command}\")\n",
    "            return command.lower()\n",
    "        except sr.UnknownValueError:\n",
    "            print(\"Sorry, I did not understand.\")\n",
    "            return \"\""
   ]
  },
  {
   "cell_type": "code",
   "execution_count": null,
   "id": "c6136656-a3bb-4500-a4d1-eff8c0d29176",
   "metadata": {},
   "outputs": [],
   "source": [
    "# Feeding system\n",
    "def feed_pet():\n",
    "    print(\"Dispensing food...\")\n",
    "    servo_food.max()  # Dispense food\n",
    "    time.sleep(2)  # Wait 2 seconds\n",
    "    servo_food.min()  # Stop dispensing\n",
    "    print(\"Food dispensed.\")\n"
   ]
  },
  {
   "cell_type": "code",
   "execution_count": null,
   "id": "19e1e136-7b69-42f9-9db4-1637a7ee74b0",
   "metadata": {},
   "outputs": [],
   "source": [
    "# Water dispenser system\n",
    "def give_water():\n",
    "    print(\"Dispensing water...\")\n",
    "    water_pump.forward()  # Activate water pump\n",
    "    time.sleep(3)  # Dispense for 3 seconds\n",
    "    water_pump.stop()  # Stop dispensing\n",
    "    print(\"Water dispensed.\")\n"
   ]
  },
  {
   "cell_type": "code",
   "execution_count": null,
   "id": "f1b68d55-8f63-427c-9e52-f138c52dfbb7",
   "metadata": {},
   "outputs": [],
   "source": [
    "# Calm music system\n",
    "def play_calm_music():\n",
    "    print(\"Playing calm music...\")\n",
    "    music_mode_led.on()  # Indicate music mode\n",
    "    playsound('calm_music.mp3')  # Play sound\n",
    "    music_mode_led.off()"
   ]
  },
  {
   "cell_type": "code",
   "execution_count": null,
   "id": "acaa5d38-fc5b-457a-8a8b-9768a61f61cc",
   "metadata": {},
   "outputs": [],
   "source": [
    "# Medicine dispenser\n",
    "def dispense_medicine():\n",
    "    print(\"Dispensing medicine...\")\n",
    "    medicine_motor.forward()  # Activate medicine motor\n",
    "    time.sleep(1)  # Dispense medicine\n",
    "    medicine_motor.stop()\n",
    "    print(\"Medicine dispensed.\")\n"
   ]
  },
  {
   "cell_type": "code",
   "execution_count": null,
   "id": "c88e05de-b7f1-4ec1-b44a-07452300f1c4",
   "metadata": {},
   "outputs": [],
   "source": [
    "# Schedule feeding every day at a specific time\n",
    "def schedule_feeding():\n",
    "    schedule.every().day.at(\"08:00\").do(feed_pet)  # Set your desired feeding time"
   ]
  },
  {
   "cell_type": "code",
   "execution_count": null,
   "id": "6885fedd-508e-42c2-98e3-a10194534c4d",
   "metadata": {},
   "outputs": [],
   "source": [
    "# Main loop to listen for commands\n",
    "schedule_feeding()  \n",
    "while True:\n",
    "    command = voice_command()\n",
    "    \n",
    "    if \"feed\" in command:\n",
    "        feed_pet()\n",
    "    elif \"water\" in command:\n",
    "        give_water()\n",
    "    elif \"music\" in command:\n",
    "        play_calm_music()\n",
    "    elif \"medicine\" in command:\n",
    "        dispense_medicine()\n",
    "    elif \"stop\" in command:\n",
    "        print(\"Stopping the system.\")\n",
    "        speak(\"System stopping.\")\n",
    "        break\n",
    "    else:\n",
    "        print(\"Invalid command, please try again.\")\n",
    "        speak(\"I didn't recognize that command.\")\n",
    "\n",
    "   \n",
    "    schedule.run_pending()\n",
    "    time.sleep(1)  "
   ]
  }
 ],
 "metadata": {
  "kernelspec": {
   "display_name": "Python 3 (ipykernel)",
   "language": "python",
   "name": "python3"
  },
  "language_info": {
   "codemirror_mode": {
    "name": "ipython",
    "version": 3
   },
   "file_extension": ".py",
   "mimetype": "text/x-python",
   "name": "python",
   "nbconvert_exporter": "python",
   "pygments_lexer": "ipython3",
   "version": "3.12.2"
  }
 },
 "nbformat": 4,
 "nbformat_minor": 5
}
